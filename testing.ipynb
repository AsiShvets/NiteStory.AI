{
 "cells": [
  {
   "cell_type": "code",
   "execution_count": null,
   "metadata": {},
   "outputs": [],
   "source": [
    "prompts = [\n",
    "    \"Write a bedtime story about bravery.\",\n",
    "    \"Tell a story about a 5-year-old who overcame their fear of the dark.\"\n",
    "]\n",
    "\n",
    "def compare_models(prompts):\n",
    "    results = []\n",
    "    for prompt in prompts:\n",
    "        chatgpt_response = get_chatgpt_response(prompt)  # From OpenAI API\n",
    "        ollama_response = get_ollama_response(prompt, model=\"llama2\")\n",
    "        results.append({\n",
    "            \"Prompt\": prompt,\n",
    "            \"ChatGPT\": chatgpt_response,\n",
    "            \"Ollama Llama2\": ollama_response\n",
    "        })\n",
    "    return results\n"
   ]
  }
 ],
 "metadata": {
  "language_info": {
   "name": "python"
  }
 },
 "nbformat": 4,
 "nbformat_minor": 2
}
