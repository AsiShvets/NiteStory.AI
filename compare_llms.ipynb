{
 "cells": [
  {
   "cell_type": "code",
   "execution_count": 1,
   "metadata": {},
   "outputs": [],
   "source": [
    "import openai\n",
    "\n",
    "\n",
    "\n",
    "def get_chatgpt_response(prompt):\n",
    "    response = openai.ChatCompletion.create(\n",
    "        model=\"gpt-3.5-turbo\",\n",
    "        messages=[{\"role\": \"user\", \"content\": prompt}]\n",
    "    )\n",
    "    return response['choices'][0]['message']['content']\n"
   ]
  },
  {
   "cell_type": "code",
   "execution_count": 2,
   "metadata": {},
   "outputs": [],
   "source": [
    "# Send Requests to Ollama\n",
    "\n",
    "# Ollama has an HTTP API for querying models. You can use it with Python\n",
    "import requests\n",
    "\n",
    "def get_ollama_response(prompt, model=\"llama2\"):\n",
    "    url = f\"http://localhost:11434/api/completions\"\n",
    "    payload = {\"model\": model, \"prompt\": prompt}\n",
    "    response = requests.post(url, json=payload)\n",
    "    return response.json()[\"completion\"]\n"
   ]
  },
  {
   "cell_type": "code",
   "execution_count": 3,
   "metadata": {},
   "outputs": [],
   "source": [
    "prompts = [\n",
    "    \"Write a bedtime story about bravery.\",\n",
    "    \"Tell a story about a 5-year-old who overcame their fear of the dark.\"\n",
    "]\n",
    "\n",
    "def compare_models(prompts):\n",
    "    results = []\n",
    "    for prompt in prompts:\n",
    "        chatgpt_response = get_chatgpt_response(prompt)  # From OpenAI API\n",
    "        ollama_response = get_ollama_response(prompt, model=\"llama2\")\n",
    "        results.append({\n",
    "            \"Prompt\": prompt,\n",
    "            \"ChatGPT\": chatgpt_response,\n",
    "            \"Ollama Llama2\": ollama_response\n",
    "        })\n",
    "    return results\n"
   ]
  },
  {
   "cell_type": "code",
   "execution_count": null,
   "metadata": {},
   "outputs": [],
   "source": [
    "# import pandas as pd\n",
    "\n",
    "# df = pd.DataFrame(results)\n",
    "# df.to_csv(\"comparison_results.csv\", index=False)\n"
   ]
  },
  {
   "cell_type": "code",
   "execution_count": null,
   "metadata": {},
   "outputs": [],
   "source": [
    "\n"
   ]
  }
 ],
 "metadata": {
  "kernelspec": {
   "display_name": "Python 3",
   "language": "python",
   "name": "python3"
  },
  "language_info": {
   "codemirror_mode": {
    "name": "ipython",
    "version": 3
   },
   "file_extension": ".py",
   "mimetype": "text/x-python",
   "name": "python",
   "nbconvert_exporter": "python",
   "pygments_lexer": "ipython3",
   "version": "3.11.6"
  }
 },
 "nbformat": 4,
 "nbformat_minor": 2
}
