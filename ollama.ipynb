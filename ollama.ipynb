{
 "cells": [
  {
   "cell_type": "code",
   "execution_count": null,
   "metadata": {},
   "outputs": [],
   "source": [
    "import requests\n",
    "\n",
    "def get_ollama_response(prompt, model=\"llama2\"):\n",
    "    url = f\"http://localhost:11434/api/completions\"\n",
    "    payload = {\"model\": model, \"prompt\": prompt}\n",
    "    response = requests.post(url, json=payload)\n",
    "    return response.json()[\"completion\"]\n"
   ]
  }
 ],
 "metadata": {
  "language_info": {
   "name": "python"
  }
 },
 "nbformat": 4,
 "nbformat_minor": 2
}
